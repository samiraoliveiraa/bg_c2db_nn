{
 "cells": [
  {
   "cell_type": "markdown",
   "id": "688ff586-ea04-4b5d-b785-e09905c76c08",
   "metadata": {},
   "source": [
    "FrozenTrial(number=100, values=[0.8109135873250647], datetime_start=datetime.datetime(2024, 5, 12, 1, 37, 13, 265341), datetime_complete=datetime.datetime(2024, 5, 12, 1, 39, 54, 354747), params={'num_neuronios': 719, 'num_camadas': 3, 'funcao_de_ativacao': 'Relu', 'taxa_de_aprendizado': 0.00015920855476766, 'otimizador': 'ADAM'}, distributions={'num_neuronios': IntDistribution(high=1000, log=False, low=30, step=1), 'num_camadas': IntDistribution(high=10, log=False, low=3, step=1), 'funcao_de_ativacao': CategoricalDistribution(choices=('Sigmoide', 'Relu', 'Tangente_Hiper', 'Eluércio', 'ElerisonGleysson')), 'taxa_de_aprendizado': FloatDistribution(high=0.5, log=True, low=1e-06, step=None), 'otimizador': CategoricalDistribution(choices=('SGD', 'ADAM', 'RMSPROP'))}, user_attrs={}, system_attrs={}, intermediate_values={}, trial_id=100, state=TrialState.COMPLETE, value=None)"
   ]
  },
  {
   "cell_type": "code",
   "execution_count": null,
   "id": "bd4b1fba-f123-4aec-bb3d-b747273809cf",
   "metadata": {},
   "outputs": [],
   "source": []
  },
  {
   "cell_type": "code",
   "execution_count": null,
   "id": "983166ff-e5bf-493a-91fd-61e953b3da49",
   "metadata": {},
   "outputs": [],
   "source": []
  },
  {
   "cell_type": "code",
   "execution_count": null,
   "id": "697192ba-0c05-4686-b4e8-b4e2402fd283",
   "metadata": {},
   "outputs": [],
   "source": []
  }
 ],
 "metadata": {
  "kernelspec": {
   "display_name": "ilumpy",
   "language": "python",
   "name": "ilumpy"
  },
  "language_info": {
   "codemirror_mode": {
    "name": "ipython",
    "version": 3
   },
   "file_extension": ".py",
   "mimetype": "text/x-python",
   "name": "python",
   "nbconvert_exporter": "python",
   "pygments_lexer": "ipython3",
   "version": "3.10.8"
  }
 },
 "nbformat": 4,
 "nbformat_minor": 5
}
